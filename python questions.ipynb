{
 "cells": [
  {
   "cell_type": "code",
   "execution_count": null,
   "metadata": {},
   "outputs": [],
   "source": [
    "# turtle program\n",
    "#2. Draw a Spirling Square with Pen color as 'Red'.\n",
    "#square spiral\n",
    "import turtle as t\n",
    "a1=t.Turtle()\n",
    "a1.pencolor('red')\n",
    "for x in range(250):\n",
    "   \n",
    "    a1.forward(x)\n",
    "    a1.left(91)\n",
    "t.done()"
   ]
  },
  {
   "cell_type": "code",
   "execution_count": 1,
   "metadata": {},
   "outputs": [
    {
     "data": {
      "text/plain": [
       "7"
      ]
     },
     "execution_count": 1,
     "metadata": {},
     "output_type": "execute_result"
    }
   ],
   "source": [
    "# print large number\n",
    "def printlarge(n):\n",
    "    large = 0\n",
    "    while n != 0:\n",
    "        r = n % 10\n",
    "        if large < r:\n",
    "            large = r\n",
    "        n = n // 10 \n",
    "    return large\n",
    "printlarge(36372)\n",
    "\n"
   ]
  },
  {
   "cell_type": "code",
   "execution_count": 2,
   "metadata": {},
   "outputs": [
    {
     "data": {
      "text/plain": [
       "108"
      ]
     },
     "execution_count": 2,
     "metadata": {},
     "output_type": "execute_result"
    }
   ],
   "source": [
    "4.#Write a python programming to print the Palindrome count between two limits\n",
    "def isPalindrome(n):\n",
    "    rev = 0\n",
    "    buffer = n\n",
    "    while n!= 0:\n",
    "        r = n % 10\n",
    "        rev = rev * 10 + r\n",
    "        n = n // 10\n",
    "    if rev == buffer:\n",
    "        return True\n",
    "    else:\n",
    "        return False\n",
    "    return\n",
    "\n",
    "def countPalindrome(lb,ub):\n",
    "    cnt = 0\n",
    "    while lb != ub:\n",
    "        if isPalindrome(lb) == True:\n",
    "            cnt = cnt + 1\n",
    "        lb = lb + 1\n",
    "    return cnt\n",
    "countPalindrome(1,1000)\n"
   ]
  },
  {
   "cell_type": "code",
   "execution_count": null,
   "metadata": {},
   "outputs": [],
   "source": []
  }
 ],
 "metadata": {
  "kernelspec": {
   "display_name": "Python 3",
   "language": "python",
   "name": "python3"
  },
  "language_info": {
   "codemirror_mode": {
    "name": "ipython",
    "version": 3
   },
   "file_extension": ".py",
   "mimetype": "text/x-python",
   "name": "python",
   "nbconvert_exporter": "python",
   "pygments_lexer": "ipython3",
   "version": "3.7.3"
  }
 },
 "nbformat": 4,
 "nbformat_minor": 2
}
